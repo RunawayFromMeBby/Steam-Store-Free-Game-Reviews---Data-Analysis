{
 "cells": [
  {
   "cell_type": "markdown",
   "metadata": {},
   "source": [
    "_This will be our main file_"
   ]
  },
  {
   "cell_type": "code",
   "execution_count": 48,
   "metadata": {},
   "outputs": [],
   "source": [
    "# Import dependencies\n",
    "import pandas as pd\n",
    "import matplotlib.pyplot as plt\n",
    "import plotly.express as px\n",
    "import math"
   ]
  },
  {
   "cell_type": "code",
   "execution_count": 243,
   "metadata": {
    "scrolled": true
   },
   "outputs": [],
   "source": [
    "Main = pd.read_csv('Resources/steam_free_data_2.csv', thousands=',')\n",
    "#Main['num_reviews'] = pd.to_numeric(Main.num_reviews, errors='coerce')"
   ]
  },
  {
   "cell_type": "code",
   "execution_count": 273,
   "metadata": {
    "scrolled": true
   },
   "outputs": [],
   "source": [
    "#Temp Fix\n",
    "\n",
    "Main = Main.replace('Overwhelmingly Positive',95, regex=True)\n",
    "Main = Main.replace('Very Positive',85, regex=True)\n",
    "Main = Main.replace('Mostly Positive',70, regex=True)\n",
    "Main = Main.replace('Positive',80, regex=True)\n",
    "Main = Main.replace('Mixed',50, regex=True)\n",
    "Main = Main.replace('Mostly Negative',25, regex=True)\n",
    "Main = Main.replace('Very Negative',10, regex=True)\n",
    "Main = Main.replace('Overwhelmingly Negative',5, regex=True)\n",
    "Main = Main.replace('Negative',20, regex=True)\n",
    "Main = Main.replace('7 user reviews','NaN', regex=True)\n",
    "Main = Main.replace('8 user reviews','NaN', regex=True)\n",
    "Main = Main.replace('6 user reviews','NaN', regex=True)\n",
    "Main = Main.replace('4 user reviews','NaN', regex=True)\n",
    "Main = Main.replace('1 user reviews','NaN', regex=True)\n",
    "Main = Main.replace('3 user reviews','NaN', regex=True)\n",
    "Main = Main.replace('9 user reviews','NaN', regex=True)\n",
    "Main = Main.dropna()"
   ]
  },
  {
   "cell_type": "code",
   "execution_count": 195,
   "metadata": {},
   "outputs": [],
   "source": [
    "#Main['average_review'] = pd.to_numeric(Main.num_reviews, errors='coerce')"
   ]
  },
  {
   "cell_type": "code",
   "execution_count": 245,
   "metadata": {},
   "outputs": [],
   "source": [
    "#All games by genre\n",
    "\n",
    "Action_games = Main[Main['genres'].str.contains('Action')]\n",
    "Adventure_games = Main[Main['genres'].str.contains('Adventure')]\n",
    "Casual_games = Main[Main['genres'].str.contains('Casual')]\n",
    "RPG_games = Main[Main['genres'].str.contains('RPG')]\n",
    "Racing_games = Main[Main['genres'].str.contains('Racing')]\n",
    "Strategy_games = Main[Main['genres'].str.contains('Strategy')]\n",
    "Sports_games = Main[Main['genres'].str.contains('Sports')]\n",
    "Simulation_games = Main[Main['genres'].str.contains('Simulation')]\n",
    "MMO_games = Main[Main['genres'].str.contains('Massively Multiplayer')]"
   ]
  },
  {
   "cell_type": "code",
   "execution_count": 246,
   "metadata": {},
   "outputs": [],
   "source": [
    "#All Indie games by genre\n",
    "Indie = Main[Main['genres'].str.contains('Indie')]\n",
    "\n",
    "Indie_Action_games = Indie[Indie['genres'].str.contains('Action')]\n",
    "Indie_Adventure_games = Indie[Indie['genres'].str.contains('Adventure')]\n",
    "Indie_Casual_games = Indie[Indie['genres'].str.contains('Casual')]\n",
    "Indie_RPG_games = Indie[Indie['genres'].str.contains('RPG')]\n",
    "Indie_Racing_games = Indie[Indie['genres'].str.contains('Racing')]\n",
    "Indie_Strategy_games = Indie[Indie['genres'].str.contains('Strategy')]\n",
    "Indie_Sports_games = Indie[Indie['genres'].str.contains('Sports')]\n",
    "Indie_Simulation_games = Indie[Indie['genres'].str.contains('Simulation')]\n",
    "Indie_MMO_games = Indie[Indie['genres'].str.contains('Massively Multiplayer')]"
   ]
  },
  {
   "cell_type": "code",
   "execution_count": 247,
   "metadata": {},
   "outputs": [],
   "source": [
    "#Number of games per genre\n",
    "\n",
    "Action = len(Action_games)\n",
    "Adventure = len(Adventure_games)\n",
    "Casual = len(Casual_games)\n",
    "RPG = len(RPG_games)\n",
    "Racing = len(Racing_games)\n",
    "Strategy = len(Strategy_games)\n",
    "Sports = len(Sports_games)\n",
    "Simulation = len(Simulation_games)\n",
    "MMO = len(MMO_games)"
   ]
  },
  {
   "cell_type": "code",
   "execution_count": 248,
   "metadata": {},
   "outputs": [],
   "source": [
    "#Number of Indie games per genre\n",
    "\n",
    "I_Action = len(Indie_Action_games)\n",
    "I_Adventure = len(Indie_Adventure_games)\n",
    "I_Casual = len(Indie_Casual_games)\n",
    "I_RPG = len(Indie_RPG_games)\n",
    "I_Racing = len(Indie_Racing_games)\n",
    "I_Strategy = len(Indie_Strategy_games)\n",
    "I_Sports = len(Indie_Sports_games)\n",
    "I_Simulation = len(Indie_Simulation_games)\n",
    "I_MMO = len(Indie_MMO_games)"
   ]
  },
  {
   "cell_type": "code",
   "execution_count": 249,
   "metadata": {},
   "outputs": [],
   "source": [
    "#Average Numbers of Reviews per game by genre\n",
    "\n",
    "Rev_Action_games = math.trunc(Action_games.num_reviews.mean())\n",
    "Rev_Adventure_games = math.trunc(Adventure_games.num_reviews.mean())\n",
    "Rev_Casual_games = math.trunc(Casual_games.num_reviews.mean())\n",
    "Rev_RPG_games = math.trunc(RPG_games.num_reviews.mean())\n",
    "Rev_Racing_games = math.trunc(Racing_games.num_reviews.mean())\n",
    "Rev_Strategy_games = math.trunc(Strategy_games.num_reviews.mean())\n",
    "Rev_Sports_games = math.trunc(Sports_games.num_reviews.mean())\n",
    "Rev_Simulation_games = math.trunc(Simulation_games.num_reviews.mean())\n",
    "Rev_MMO_games = math.trunc(MMO_games.num_reviews.mean())"
   ]
  },
  {
   "cell_type": "code",
   "execution_count": 261,
   "metadata": {},
   "outputs": [],
   "source": [
    "#Average game score by genre\n",
    "R_Action = (math.trunc(Action_games['average_review'].mean()*100)/100)\n",
    "R_Adventure = (math.trunc(Adventure_games['average_review'].mean()*100)/100)\n",
    "R_Casual = (math.trunc(Casual_games['average_review'].mean()*100)/100)\n",
    "R_RPG = (math.trunc(RPG_games['average_review'].mean()*100)/100)\n",
    "R_Racing = (math.trunc(Racing_games['average_review'].mean()*100)/100)\n",
    "R_Strategy = (math.trunc(Strategy_games['average_review'].mean()*100)/100)\n",
    "R_Sports = (math.trunc(Sports_games['average_review'].mean()*100)/100)\n",
    "R_Simulation = (math.trunc(Simulation_games['average_review'].mean()*100)/100)\n",
    "R_MMO = (math.trunc(MMO_games['average_review'].mean()*100)/100)"
   ]
  },
  {
   "cell_type": "code",
   "execution_count": 264,
   "metadata": {},
   "outputs": [],
   "source": [
    "#Average Indie game score by genre\n",
    "IR_Action = (math.trunc(Indie_Action_games['average_review'].mean()*100)/100)\n",
    "IR_Adventure = (math.trunc(Indie_Adventure_games['average_review'].mean()*100)/100)\n",
    "IR_Casual = (math.trunc(Indie_Casual_games['average_review'].mean()*100)/100)\n",
    "IR_RPG = (math.trunc(Indie_RPG_games['average_review'].mean()*100)/100)\n",
    "IR_Racing = (math.trunc(Indie_Racing_games['average_review'].mean()*100)/100)\n",
    "IR_Strategy = (math.trunc(Indie_Strategy_games['average_review'].mean()*100)/100)\n",
    "IR_Sports = (math.trunc(Indie_Sports_games['average_review'].mean()*100)/100)\n",
    "IR_Simulation = (math.trunc(Indie_Simulation_games['average_review'].mean()*100)/100)\n",
    "IR_MMO = (math.trunc(Indie_MMO_games['average_review'].mean()*100)/100)"
   ]
  },
  {
   "cell_type": "code",
   "execution_count": 268,
   "metadata": {},
   "outputs": [],
   "source": [
    "#Difference in game scores from Studio to Indie\n",
    "\n",
    "Diff_Action = (math.trunc((IR_Action - R_Action)*100)/100)\n",
    "Diff_Adventure = (math.trunc((IR_Adventure - R_Adventure)*100)/100)\n",
    "Diff_Casual = (math.trunc((IR_Casual - R_Casual)*100)/100)\n",
    "Diff_RPG = (math.trunc((IR_RPG - R_RPG)*100)/100)\n",
    "Diff_Racing = (math.trunc((IR_Racing - R_Racing)*100)/100)\n",
    "Diff_Strategy = (math.trunc((IR_Strategy - R_Strategy)*100)/100)\n",
    "Diff_Sports = (math.trunc((IR_Sports - R_Sports)*100)/100)\n",
    "Diff_Simulation = (math.trunc((IR_Simulation - R_Simulation)*100)/100)\n",
    "Diff_MMO = (math.trunc((IR_MMO - R_MMO)*100)/100)"
   ]
  },
  {
   "cell_type": "code",
   "execution_count": 256,
   "metadata": {},
   "outputs": [],
   "source": [
    "#Percentage of each genre made by Indie developers\n",
    "\n",
    "IP_Action = (math.trunc((I_Action/Action)*100)/100)\n",
    "IP_Adventure = (math.trunc((I_Adventure/Adventure)*10000)/100)\n",
    "IP_Casual = (math.trunc((I_Casual/Casual)*10000)/100)\n",
    "IP_RPG = (math.trunc((I_RPG/RPG)*10000)/100)\n",
    "IP_Racing = (math.trunc((I_Racing/Racing)*10000)/100)\n",
    "IP_Strategy = (math.trunc((I_Strategy/Strategy)*10000)/100)\n",
    "IP_Sports = (math.trunc((I_Sports/Sports)*10000)/100)\n",
    "IP_Simulation = (math.trunc((I_Simulation/Simulation)*10000)/100)\n",
    "IP_MMO = (math.trunc((I_MMO/MMO)*10000)/100)"
   ]
  },
  {
   "cell_type": "code",
   "execution_count": 221,
   "metadata": {},
   "outputs": [],
   "source": [
    "Genre_List = [Action, Adventure, Casual, RPG, Racing, Strategy, Sports, Simulation, MMO]"
   ]
  },
  {
   "cell_type": "code",
   "execution_count": 222,
   "metadata": {},
   "outputs": [
    {
     "name": "stdout",
     "output_type": "stream",
     "text": [
      "The number of free games per genre on the Steam Store are as follows: \n",
      " Action: 1595 \n",
      " Adventure: 1284 \n",
      " Casual: 1586 \n",
      " RPG: 479 \n",
      " Racing: 88 \n",
      " Strategy: 294 \n",
      " Sports: 92 \n",
      " Simulation: 419 \n",
      " MMO: 542\n"
     ]
    }
   ],
   "source": [
    "print(\"The number of free games per genre on the Steam Store are as follows: \\n Action: {} \\n Adventure: {} \\n Casual: {} \\n RPG: {} \\n Racing: {} \\n Strategy: {} \\n Sports: {} \\n Simulation: {} \\n MMO: {}\".format(Action, Adventure, Casual, RPG, Racing, Strategy, Sports, Simulation, MMO))"
   ]
  },
  {
   "cell_type": "code",
   "execution_count": 223,
   "metadata": {},
   "outputs": [
    {
     "name": "stdout",
     "output_type": "stream",
     "text": [
      "The average number of reviews per game per genre is as follows: \n",
      " Action: 319 \n",
      " Adventure: 268 \n",
      " Casual: 206 \n",
      " RPG: 303 \n",
      " Racing: 215 \n",
      " Strategy: 314 \n",
      " Sports: 251 \n",
      " Simulation: 248 \n",
      " MMO: 369\n"
     ]
    }
   ],
   "source": [
    "print(\"The average number of reviews per game per genre is as follows: \\n Action: {} \\n Adventure: {} \\n Casual: {} \\n RPG: {} \\n Racing: {} \\n Strategy: {} \\n Sports: {} \\n Simulation: {} \\n MMO: {}\".format(Rev_Action_games, Rev_Adventure_games, Rev_Casual_games, Rev_RPG_games, Rev_Racing_games, Rev_Strategy_games, Rev_Sports_games, Rev_Simulation_games, Rev_MMO_games))"
   ]
  },
  {
   "cell_type": "code",
   "execution_count": 224,
   "metadata": {},
   "outputs": [
    {
     "name": "stdout",
     "output_type": "stream",
     "text": [
      "The percent of free games on Steam made by Indie Developers is 43.93%.\n"
     ]
    }
   ],
   "source": [
    "Percent_Indie = (math.trunc((len(Indie)/len(Main))*10000)/100)\n",
    "print(\"The percent of free games on Steam made by Indie Developers is {}%.\".format(Percent_Indie))"
   ]
  },
  {
   "cell_type": "code",
   "execution_count": 225,
   "metadata": {},
   "outputs": [
    {
     "name": "stdout",
     "output_type": "stream",
     "text": [
      "The number of free Indie games per genre on the Steam Store are as follows: \n",
      " Action: 704 \n",
      " Adventure: 594 \n",
      " Casual: 788 \n",
      " RPG: 300 \n",
      " Racing: 58 \n",
      " Strategy: 202 \n",
      " Sports: 58 \n",
      " Simulation: 260 \n",
      " MMO: 221\n"
     ]
    }
   ],
   "source": [
    "print(\"The number of free Indie games per genre on the Steam Store are as follows: \\n Action: {} \\n Adventure: {} \\n Casual: {} \\n RPG: {} \\n Racing: {} \\n Strategy: {} \\n Sports: {} \\n Simulation: {} \\n MMO: {}\".format(I_Action, I_Adventure, I_Casual, I_RPG, I_Racing, I_Strategy, I_Sports, I_Simulation, I_MMO))"
   ]
  },
  {
   "cell_type": "code",
   "execution_count": 226,
   "metadata": {
    "scrolled": false
   },
   "outputs": [
    {
     "name": "stdout",
     "output_type": "stream",
     "text": [
      "The percent of each genre of free games on the Steam Store made by Indie Developers are as follows: \n",
      " Action: 44.13 \n",
      " Adventure: 46.26 \n",
      " Casual: 49.68 \n",
      " RPG: 62.63 \n",
      " Racing: 65.9 \n",
      " Strategy: 68.7 \n",
      " Sports: 63.04 \n",
      " Simulation: 62.05 \n",
      " MMO: 40.77\n"
     ]
    }
   ],
   "source": [
    "print(\"The percent of each genre of free games on the Steam Store made by Indie Developers are as follows: \\n Action: {} \\n Adventure: {} \\n Casual: {} \\n RPG: {} \\n Racing: {} \\n Strategy: {} \\n Sports: {} \\n Simulation: {} \\n MMO: {}\".format(IP_Action, IP_Adventure, IP_Casual, IP_RPG, IP_Racing, IP_Strategy, IP_Sports, IP_Simulation, IP_MMO))"
   ]
  },
  {
   "cell_type": "code",
   "execution_count": 262,
   "metadata": {},
   "outputs": [
    {
     "name": "stdout",
     "output_type": "stream",
     "text": [
      "The Average Game Score per genre on the Steam Store are as follows: \n",
      " Action: 66.71 \n",
      " Adventure: 69.52 \n",
      " Casual: 69.42 \n",
      " RPG: 64.63 \n",
      " Racing: 61.7 \n",
      " Strategy: 66.88 \n",
      " Sports: 67.06 \n",
      " Simulation: 66.08 \n",
      " MMO: 59.11\n"
     ]
    }
   ],
   "source": [
    "print(\"The Average Game Score per genre on the Steam Store are as follows: \\n Action: {} \\n Adventure: {} \\n Casual: {} \\n RPG: {} \\n Racing: {} \\n Strategy: {} \\n Sports: {} \\n Simulation: {} \\n MMO: {}\".format(R_Action, R_Adventure, R_Casual, R_RPG, R_Racing, R_Strategy, R_Sports, R_Simulation, R_MMO))"
   ]
  },
  {
   "cell_type": "code",
   "execution_count": 265,
   "metadata": {},
   "outputs": [
    {
     "name": "stdout",
     "output_type": "stream",
     "text": [
      "The Average Indie Game Score per genre on the Steam Store are as follows: \n",
      " Action: 66.78 \n",
      " Adventure: 70.35 \n",
      " Casual: 70.16 \n",
      " RPG: 66.55 \n",
      " Racing: 59.13 \n",
      " Strategy: 68.51 \n",
      " Sports: 68.87 \n",
      " Simulation: 67.38 \n",
      " MMO: 59.47\n"
     ]
    }
   ],
   "source": [
    "print(\"The Average Indie Game Score per genre on the Steam Store are as follows: \\n Action: {} \\n Adventure: {} \\n Casual: {} \\n RPG: {} \\n Racing: {} \\n Strategy: {} \\n Sports: {} \\n Simulation: {} \\n MMO: {}\".format(IR_Action, IR_Adventure, IR_Casual, IR_RPG, IR_Racing, IR_Strategy, IR_Sports, IR_Simulation, IR_MMO))"
   ]
  },
  {
   "cell_type": "code",
   "execution_count": 276,
   "metadata": {},
   "outputs": [
    {
     "name": "stdout",
     "output_type": "stream",
     "text": [
      "The Average Percent Change in Score between games made by Indie and \n",
      "Large Developers per genre on the Steam Store are as follows: \n",
      " Action: 0.07 \n",
      " Adventure: 0.82 \n",
      " Casual: 0.73 \n",
      " RPG: 1.92 \n",
      " Racing: -2.57 \n",
      " Strategy: 1.63 \n",
      " Sports: 1.81 \n",
      " Simulation: 1.29 \n",
      " MMO: 0.35\n"
     ]
    }
   ],
   "source": [
    "print(\"The Average Percent Change in Score between games made by Indie and \\nLarge Developers per genre on the Steam Store are as follows: \\n Action: {} \\n Adventure: {} \\n Casual: {} \\n RPG: {} \\n Racing: {} \\n Strategy: {} \\n Sports: {} \\n Simulation: {} \\n MMO: {}\".format(Diff_Action, Diff_Adventure, Diff_Casual, Diff_RPG, Diff_Racing, Diff_Strategy, Diff_Sports, Diff_Simulation, Diff_MMO))"
   ]
  },
  {
   "cell_type": "code",
   "execution_count": null,
   "metadata": {},
   "outputs": [],
   "source": []
  }
 ],
 "metadata": {
  "kernelspec": {
   "display_name": "Python 3 (ipykernel)",
   "language": "python",
   "name": "python3"
  },
  "language_info": {
   "codemirror_mode": {
    "name": "ipython",
    "version": 3
   },
   "file_extension": ".py",
   "mimetype": "text/x-python",
   "name": "python",
   "nbconvert_exporter": "python",
   "pygments_lexer": "ipython3",
   "version": "3.9.7"
  }
 },
 "nbformat": 4,
 "nbformat_minor": 4
}
